{
 "cells": [
  {
   "cell_type": "markdown",
   "metadata": {},
   "source": [
    "# Computational and Artifical Intelligenge\n",
    "\n",
    "Problem Solving by Searching using IDA* and Best First Search"
   ]
  },
  {
   "cell_type": "markdown",
   "metadata": {},
   "source": [
    "Things to follow\n",
    "\n",
    "1. Use appropriate data structures for the fringes and explain the reasoning behind the usage. You need not create data structures, instead use available libraries directly.\n",
    "\n",
    "2. Avoid any hard-coding unless absolutely necessary.\n",
    "\n",
    "3. Provide proper documentation"
   ]
  },
  {
   "cell_type": "markdown",
   "metadata": {},
   "source": [
    "Coding begins now!!!"
   ]
  },
  {
   "cell_type": "markdown",
   "metadata": {},
   "source": [
    "Define the environment representation in the following code block"
   ]
  },
  {
   "cell_type": "markdown",
   "metadata": {},
   "source": [
    "# Environment representation goes here"
   ]
  },
  {
   "cell_type": "code",
   "execution_count": 210,
   "metadata": {},
   "outputs": [],
   "source": [
    "### Algorithm reference reading: https://en.wikipedia.org/wiki/Iterative_deepening_A*\n",
    "import sys\n",
    "\n",
    "# grid represented as a 11x8 binary matrix. 0 = obstacle in the cell, 1 = no obstacle\n",
    "grid = [[1, 1, 1, 1, 1, 1, 1, 1, 1, 1, 1],\n",
    "        [1, 1, 1, 1, 1, 1, 0, 0, 0, 1, 1],\n",
    "        [1, 1, 0, 0, 1, 1, 1, 1, 0, 1, 1],\n",
    "        [1, 1, 0, 0, 1, 1, 1, 1, 0, 1, 1],\n",
    "        [1, 1, 1, 1, 1, 1, 1, 1, 1, 1, 1],\n",
    "        [1, 1, 1, 1, 1, 1, 1, 1, 1, 1, 1],\n",
    "        [1, 1, 0, 0, 0, 0, 0, 0, 0, 1, 1],\n",
    "        [1, 1, 1, 1, 1, 1, 1, 1, 1, 1, 1]]\n",
    "\n",
    "# grid dimensions\n",
    "gridLimit = (len(grid) - 1, len(grid[0]) - 1)\n",
    "\n",
    "# start and end cells in the grid\n",
    "start = (0, 3)\n",
    "end = (5,10)\n",
    "\n",
    "\"\"\"configures the modes that can be taken from the current node\"\"\"\n",
    "allowedMoves = [(0, -1), (0, 1), (-1, 0), (1, 0)] #allowed to move left, right, top and bottom"
   ]
  },
  {
   "cell_type": "markdown",
   "metadata": {},
   "source": [
    "Define the fringe (data structure) and its supported methods in the following code block"
   ]
  },
  {
   "cell_type": "markdown",
   "metadata": {},
   "source": [
    "# Fringe representation and its associated methods\n",
    "\n",
    "**Heuristic function** used: h(x) = **Manhatten Distance** between node and destination\n",
    "**Note**: As we are **allowed to move only left, right, up and down only** - Manhatten distance is a good heuristic\n",
    "If, we were to move diagonally that straight line distance would be the best heuristic\n",
    "\n",
    "Conditions to be fullfilled for a Heuristic to be consistent:\n",
    "    1. H(goal) = 0\n",
    "    2. H(node) <= cost(node, another_node) + H(another_node)\n",
    "    \n",
    "Using a Manhatten distance for H(x); we find that:\n",
    "    1. Manhatten distance of goal node to goal node = 0.\n",
    "    2. Manhatten distance complies with triagle inequality, i.e. condition 2 is satisfied. Example:\n",
    "        if Goal = (5,10), node = (4,5); for any P(4,6):\n",
    "            H(node) = |5-4| + |10-5| = 6\n",
    "            cost(node,P) = |4-4| + |5-6| = 1\n",
    "            H(P) = |5-4| + |10-6| = 5\n",
    "            it can be found from the above thatL H(node) <= cost(node,P) + H(p)\n",
    "Hence its proved that Manhatten distance for the given problem is **consistent**.\n",
    "A consitent heuristic is inherently also **admissible**."
   ]
  },
  {
   "cell_type": "code",
   "execution_count": 211,
   "metadata": {},
   "outputs": [],
   "source": [
    "#Node class to store the position, linkage to parent node and costs\n",
    "\n",
    "class Node():\n",
    "    def __init__(self, parent=None, position=None):\n",
    "        self.parent = parent\n",
    "        self.position = position\n",
    "\n",
    "        self.f = 0\n",
    "        self.g = 0\n",
    "        self.h = 0\n",
    "\n",
    "    def __eq__(self, node):\n",
    "        return self.position == node.position\n",
    "\n",
    "#Heuristic function is the Manhattan distance between the node(n) and the goal\n",
    "def heuristic(n, goal):\n",
    "    return abs(n.position[0] - goal.position[0]) + abs(n.position[1] - goal.position[1])\n",
    "\n",
    "#checks if the node is on the path already traversed\n",
    "def is_in_path(node, path):\n",
    "    for n in path:\n",
    "        if (n.position == node.position):\n",
    "            return True\n",
    "    return False\n",
    "\n",
    "#returns the children of a node\n",
    "def getChildren(node):\n",
    "    children = []\n",
    "\n",
    "    for new_position in allowedMoves:\n",
    "        # Get node position\n",
    "        node_position = (node.position[0] + new_position[0], node.position[1] + new_position[1])\n",
    "\n",
    "        # Make sure within range\n",
    "        if (node_position[0] > gridLimit[0]) or (node_position[0] < 0) or (node_position[1] > gridLimit[1]) or (\n",
    "                node_position[1] < 0):\n",
    "            continue\n",
    "\n",
    "        # Make sure walkable terrain\n",
    "        if grid[node_position[0]][node_position[1]] != 1:\n",
    "            continue\n",
    "\n",
    "        # Create new node\n",
    "        new_node = Node(node, node_position)\n",
    "\n",
    "        # Append\n",
    "        children.append(new_node)\n",
    "\n",
    "    return children"
   ]
  },
  {
   "cell_type": "markdown",
   "metadata": {},
   "source": [
    "Define your IDA* in the following code block"
   ]
  },
  {
   "cell_type": "markdown",
   "metadata": {},
   "source": [
    "# Algorithm IDA*"
   ]
  },
  {
   "cell_type": "code",
   "execution_count": 212,
   "metadata": {},
   "outputs": [],
   "source": [
    "### Algorithm reference reading: https://en.wikipedia.org/wiki/Iterative_deepening_A*\n",
    "\n",
    "#Recursive function that checks for the next best heuristic and returns a dictionary containing the path, costs and bound limit\n",
    "# nodecount and nodesinmem used to track the nodes expanded and the nodes in memory\n",
    "def astarSearch(path, g, bound, goal_node, nodesExpanded, nodesinMem):\n",
    "    node = path[len(path)-1]\n",
    "    f = g + heuristic(node, goal_node)\n",
    "\n",
    "    # the node is higher than the bounding limit\n",
    "    if (f > bound):\n",
    "        return {'bound': f, 'path': path}\n",
    " \n",
    "    #found the goal node\n",
    "    if (node.position == goal_node.position):\n",
    "        return {'bound': -1, 'path': path, 'cost': f, 'nodesExpanded': nodesExpanded, 'nodesinMem': nodesinMem }\n",
    "\n",
    "    # assign to max value to help find the lowest higher heuristic than the bound value\n",
    "    min = sys.maxsize\n",
    "\n",
    "    #expand the node\n",
    "    nodesExpanded = nodesExpanded + 1\n",
    "    \n",
    "    #loop though the children\n",
    "    for child in getChildren(node):\n",
    "        if is_in_path(child, path) == False:\n",
    "            path.append(child)\n",
    "            \n",
    "            #recursively call the search function with new heuristic\n",
    "            result = astarSearch(path, g + heuristic(node, child), bound, goal_node, nodesExpanded, nodesinMem + 1)\n",
    "            \n",
    "            if result['bound'] == -1: #goal has been found\n",
    "                return {'bound':-1, 'path':path, 'cost': result['cost'], 'nodesExpanded': result['nodesExpanded'], 'nodesinMem': result['nodesinMem'] }\n",
    "            if result['bound'] < min: # found a child with lower bounding value\n",
    "                min = result['bound']\n",
    "            path.pop()\n",
    "\n",
    "    return {'bound': min, 'path':path}\n",
    "\n",
    "# the main IDA* search function\n",
    "def ida(grid, start, goal):\n",
    "    #initialize the start parameters\n",
    "    bound = heuristic(start, goal)\n",
    "    path = [start_node]\n",
    "    g = 0\n",
    "\n",
    "    #loop until we find the goal or fail\n",
    "    while 1:\n",
    "        result = astarSearch(path, 0, bound, goal, 0, 0)\n",
    "\n",
    "        if (result['bound'] == -1):    #found\n",
    "            return result\n",
    "        if (result['bound'] == sys.maxsize): #not found\n",
    "            return result\n",
    "\n",
    "        bound = result['bound']"
   ]
  },
  {
   "cell_type": "markdown",
   "metadata": {},
   "source": [
    "Define your Greedy Best First Search algorithm in the following code block"
   ]
  },
  {
   "cell_type": "markdown",
   "metadata": {},
   "source": [
    "# Algorithm - Best First Search"
   ]
  },
  {
   "cell_type": "code",
   "execution_count": 213,
   "metadata": {},
   "outputs": [],
   "source": [
    "# The heuristic function, Node class are reused form the ones defined above. An iterative implementation\n",
    "def bestFirstSearch(grid, start, goal):\n",
    "\n",
    "    # Initialize both open and closed list\n",
    "    open_list = []\n",
    "    closed_list = []\n",
    "    \n",
    "    nodesExpanded = 1\n",
    "    nodesInMemory = 1\n",
    "    cost = 0\n",
    "    \n",
    "    #grid dimensions\n",
    "    gridLimit = (len(grid)-1, len(grid[0])-1)\n",
    "\n",
    "    # Add the start node\n",
    "    open_list.append(start_node)\n",
    "\n",
    "    # Loop as long as there are nodes to expand\n",
    "    while len(open_list) > 0:\n",
    "        \n",
    "        # pick the current node\n",
    "        current_node = open_list[0]\n",
    "        current_index = 0\n",
    "        for index, item in enumerate(open_list):\n",
    "            if item.f < current_node.f:\n",
    "                current_node = item\n",
    "                current_index = index\n",
    "\n",
    "        # Move current from open list to closed list\n",
    "        open_list.pop(current_index)\n",
    "        closed_list.append(current_node)\n",
    "        \n",
    "        nodesExpanded = nodesExpanded + 1\n",
    "\n",
    "        # Found the goal node\n",
    "        if current_node == goal_node:\n",
    "            path = []\n",
    "            current = current_node\n",
    "            while current is not None:\n",
    "                path.append(current.position)\n",
    "                current = current.parent\n",
    "            return {'path': path[::-1], 'cost': cost, 'nodesExpanded':nodesExpanded, 'nodesInMemory': nodesInMemory} # Return the results\n",
    "\n",
    "        #print ('Generating childred for:', current_node.position, current_node.f, current_node.g, current_node.h)\n",
    "        # Generate children\n",
    "        children = []\n",
    "        for new_position in allowedMoves: # Adjacent squares\n",
    "\n",
    "            # Get node position\n",
    "            node_position = (current_node.position[0] + new_position[0], current_node.position[1] + new_position[1])\n",
    "\n",
    "            # Make sure within range\n",
    "            if (node_position[0] > gridLimit[0]) or (node_position[0] < 0) or (node_position[1] > gridLimit[1]) or (node_position[1] < 0):\n",
    "                continue\n",
    "\n",
    "            # Make sure walkable terrain\n",
    "            if grid[node_position[0]][node_position[1]] != 1:\n",
    "                continue\n",
    "\n",
    "            # Create new node\n",
    "            new_node = Node(current_node, node_position)\n",
    "            nodesInMemory = nodesInMemory + 1\n",
    "            \n",
    "            # Append\n",
    "            children.append(new_node)\n",
    "\n",
    "        # Loop through children\n",
    "        for child in children:\n",
    "\n",
    "            # Child is on the closed list\n",
    "            for closed_child in closed_list:\n",
    "                if child == closed_child:\n",
    "                    continue\n",
    "\n",
    "            # Create the f, g, and h values\n",
    "            child.h = heuristic(child, goal_node)\n",
    "            child.f = child.h\n",
    "\n",
    "            # Child is already in the open list\n",
    "            for i, open_node in enumerate(open_list):\n",
    "                if child == open_node:\n",
    "                    if child.f > open_node.f:\n",
    "                        continue\n",
    "                    else:\n",
    "                        open_list[i] = child\n",
    "                        continue\n",
    "\n",
    "            # Add the child to the open list\n",
    "            open_list.append(child)\n",
    "        \n",
    "        #increment the cost as we take the next step\n",
    "        cost = cost + 1"
   ]
  },
  {
   "cell_type": "markdown",
   "metadata": {},
   "source": [
    "Feel free to add code blocks for any other methods needed starting here."
   ]
  },
  {
   "cell_type": "code",
   "execution_count": 214,
   "metadata": {},
   "outputs": [],
   "source": [
    "#Code Block 1\n"
   ]
  },
  {
   "cell_type": "markdown",
   "metadata": {},
   "source": [
    "Call your main function/algorithm for IDA* in the next code block with appropriate input representation"
   ]
  },
  {
   "cell_type": "markdown",
   "metadata": {},
   "source": [
    "## Computation call for IDA*"
   ]
  },
  {
   "cell_type": "code",
   "execution_count": 215,
   "metadata": {},
   "outputs": [],
   "source": [
    "# Initialize the start and goal nodes\n",
    "start_node = Node(None, start)\n",
    "goal_node = Node(None, end)\n",
    "\n",
    "#call the ida function\n",
    "idaResult = ida(grid, start_node, goal_node)"
   ]
  },
  {
   "cell_type": "markdown",
   "metadata": {},
   "source": [
    "Call your main function/algorithm for Best First Search in the next code block with appropriate input representation"
   ]
  },
  {
   "cell_type": "markdown",
   "metadata": {},
   "source": [
    "## Computation call for Best First Search"
   ]
  },
  {
   "cell_type": "code",
   "execution_count": 216,
   "metadata": {},
   "outputs": [],
   "source": [
    "# use the same start and goal nodes for bestfirstseach\n",
    "bfsResult = bestFirstSearch(grid, start_node, goal_node)"
   ]
  },
  {
   "cell_type": "markdown",
   "metadata": {},
   "source": [
    "The agent should provide expected output for questions mentioned below in the subsequent blocks"
   ]
  },
  {
   "cell_type": "markdown",
   "metadata": {},
   "source": [
    "## (1) Path taken to reach destination from source for IDA*"
   ]
  },
  {
   "cell_type": "code",
   "execution_count": 217,
   "metadata": {},
   "outputs": [
    {
     "name": "stdout",
     "output_type": "stream",
     "text": [
      "IDA* Path: [(0, 3), (0, 4), (0, 5), (0, 6), (0, 7), (0, 8), (0, 9), (0, 10), (1, 10), (2, 10), (3, 10), (4, 10), (5, 10)]\n"
     ]
    }
   ],
   "source": [
    "# Execute statement to retrieve the path taken here using IDA*\n",
    "if idaResult['bound'] == -1:\n",
    "    nodes = []\n",
    "    for node in idaResult['path']:\n",
    "        nodes.append(node.position)\n",
    "\n",
    "    print('IDA* Path:', nodes)\n",
    "else:\n",
    "    print ('IDA* Path Not Found!')"
   ]
  },
  {
   "cell_type": "markdown",
   "metadata": {},
   "source": [
    "## (1) Path taken to reach destination from source for Best First Search"
   ]
  },
  {
   "cell_type": "code",
   "execution_count": 218,
   "metadata": {},
   "outputs": [
    {
     "name": "stdout",
     "output_type": "stream",
     "text": [
      "BFS Path: [(0, 3), (0, 4), (0, 5), (0, 6), (0, 7), (0, 8), (0, 9), (0, 10), (1, 10), (2, 10), (3, 10), (4, 10), (5, 10)]\n"
     ]
    }
   ],
   "source": [
    "# Execute statement to retrieve the path taken here using Best First Search\n",
    "print('BFS Path:', bfsResult['path'])"
   ]
  },
  {
   "cell_type": "markdown",
   "metadata": {},
   "source": [
    "## (2) Cost of the path for IDA* here"
   ]
  },
  {
   "cell_type": "code",
   "execution_count": 219,
   "metadata": {},
   "outputs": [
    {
     "name": "stdout",
     "output_type": "stream",
     "text": [
      "IDA* Cost: 12\n"
     ]
    }
   ],
   "source": [
    "# Execute statement to retrieve the cost of the path here using IDA*\n",
    "if idaResult['bound'] == -1:\n",
    "    print('IDA* Cost:', idaResult['cost'])\n",
    "else:\n",
    "    print ('IDA* Path Not Found!')"
   ]
  },
  {
   "cell_type": "markdown",
   "metadata": {},
   "source": [
    "## (2) Cost of the path for Best First Search here"
   ]
  },
  {
   "cell_type": "code",
   "execution_count": 220,
   "metadata": {},
   "outputs": [
    {
     "name": "stdout",
     "output_type": "stream",
     "text": [
      "BFS Cost: 12\n"
     ]
    }
   ],
   "source": [
    "# Execute statement to retrieve the cost of the path here using Best First Search\n",
    "print('BFS Cost:', bfsResult['cost'])"
   ]
  },
  {
   "cell_type": "markdown",
   "metadata": {},
   "source": [
    "## (3) Total Number of nodes expanded to get this state using IDA*"
   ]
  },
  {
   "cell_type": "code",
   "execution_count": 221,
   "metadata": {},
   "outputs": [
    {
     "name": "stdout",
     "output_type": "stream",
     "text": [
      "IDA* nodes expanded: 12\n"
     ]
    }
   ],
   "source": [
    "# Execute statement to retrieve the total number of nodes expanded to get this state using IDA* here\n",
    "print('IDA* nodes expanded:', idaResult['nodesExpanded'])"
   ]
  },
  {
   "cell_type": "markdown",
   "metadata": {},
   "source": [
    "## (3) Total Number of nodes expanded to get this state using Best First Search"
   ]
  },
  {
   "cell_type": "code",
   "execution_count": 222,
   "metadata": {},
   "outputs": [
    {
     "name": "stdout",
     "output_type": "stream",
     "text": [
      "BFS nodes expanded: 14\n"
     ]
    }
   ],
   "source": [
    "# Execute statement to retrieve the total number of nodes expanded to get this state using Best First Search here\n",
    "print('BFS nodes expanded:', bfsResult['nodesExpanded'])"
   ]
  },
  {
   "cell_type": "markdown",
   "metadata": {},
   "source": [
    "## (4) Maximum number of nodes kept at the memory at any point in time using IDA*"
   ]
  },
  {
   "cell_type": "code",
   "execution_count": 223,
   "metadata": {},
   "outputs": [
    {
     "name": "stdout",
     "output_type": "stream",
     "text": [
      "IDA* nodes in memory: 12\n"
     ]
    }
   ],
   "source": [
    "# Execute Output for the maximum number of nodes kept at the memory at any point in time using IDA* here\n",
    "print('IDA* nodes in memory:', idaResult['nodesinMem'])"
   ]
  },
  {
   "cell_type": "markdown",
   "metadata": {},
   "source": [
    "## (4) Maximum number of nodes kept at the memory at any point in time using Best First Search"
   ]
  },
  {
   "cell_type": "code",
   "execution_count": 224,
   "metadata": {},
   "outputs": [
    {
     "name": "stdout",
     "output_type": "stream",
     "text": [
      "BFS nodes in memory: 33\n"
     ]
    }
   ],
   "source": [
    "## Execute Output for the maximum number of nodes kept at the memory at any point in time using Best First Search here\n",
    "print('BFS nodes in memory:', bfsResult['nodesInMemory'])"
   ]
  },
  {
   "cell_type": "markdown",
   "metadata": {},
   "source": [
    "All the best!! Happy Coding!!\n",
    "Let human intelligence prevail"
   ]
  },
  {
   "cell_type": "markdown",
   "metadata": {},
   "source": [
    "# Closure Notes:\n",
    "Given,  \n",
    "    b: branching factor  \n",
    "    d: depth of first solution  \n",
    "\n",
    "**IDA* Complexity:**  \n",
    "    Time complexity: O(b^d)  \n",
    "    Space complexity: O(d)  \n",
    "\n",
    "**BFS Complexity:**  \n",
    "    Time complexity: O(b^d)  \n",
    "    Space complexity: O(bd)  \n",
    "    \n",
    "IDA* keeps less nodes in memory compared to A* or BFS"
   ]
  }
 ],
 "metadata": {
  "kernelspec": {
   "display_name": "Python 3",
   "language": "python",
   "name": "python3"
  },
  "language_info": {
   "codemirror_mode": {
    "name": "ipython",
    "version": 3
   },
   "file_extension": ".py",
   "mimetype": "text/x-python",
   "name": "python",
   "nbconvert_exporter": "python",
   "pygments_lexer": "ipython3",
   "version": "3.6.8"
  }
 },
 "nbformat": 4,
 "nbformat_minor": 2
}
